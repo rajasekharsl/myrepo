{
 "cells": [
  {
   "cell_type": "markdown",
   "metadata": {},
   "source": [
    "## Advanced Python\n",
    "\n",
    "### Database (MySQL - Python)"
   ]
  },
  {
   "cell_type": "code",
   "execution_count": null,
   "metadata": {},
   "outputs": [],
   "source": [
    "import mysql.connector\n",
    "# If this fails that means you didnt install mysql connector in your system\n",
    "# Open Anaconda Navigator --> Go to Environments --> for Root , search for Mysql --> select and Apply (mysql-connector-python)"
   ]
  },
  {
   "cell_type": "code",
   "execution_count": null,
   "metadata": {},
   "outputs": [],
   "source": [
    "#Establish Connection\n",
    "connection = mysql.connector.Connect(user=\"advpython\",password=\"Zaq12wsx!\",host=\"97.74.31.5\",database=\"advpython\")\n",
    "# Cursor is the way to interact with MySQL database\n",
    "cursor = connection.cursor();"
   ]
  },
  {
   "cell_type": "code",
   "execution_count": null,
   "metadata": {},
   "outputs": [],
   "source": [
    "#Create Table in selected DB\n",
    "sql = \"\"\"CREATE TABLE participants (\n",
    "         full_name  CHAR(20) NOT NULL,\n",
    "         email  VARCHAR(30) PRIMARY KEY,\n",
    "         age INT,  \n",
    "         gender CHAR(1),\n",
    "         mobile VARCHAR(15),\n",
    "         hackerrank_id VARCHAR(20),\n",
    "         linkedin_id VARCHAR(20),\n",
    "         github_id VARCHAR(20),\n",
    "         stackoverflow_id VARCHAR(20),\n",
    "         status VARCHAR(15),\n",
    "         created_date DATETIME,\n",
    "         modified_date TIMESTAMP ON UPDATE CURRENT_TIMESTAMP,\n",
    "         active int)\"\"\"\n",
    "\n",
    "#sql = \"select * from participants\"\n",
    "cursor.execute(sql)\n",
    "#cursor.fetchall()\n",
    "#print(cursor.rowcount)\n",
    "#result = connection.cmd_query(\"SELECT 'TABLE_NAME' FROM INFORMATION_SCHEMA.TABLES\")\n"
   ]
  },
  {
   "cell_type": "code",
   "execution_count": null,
   "metadata": {},
   "outputs": [],
   "source": [
    "#insert data into participants table\n",
    "sql = \"\"\"INSERT INTO participants (\n",
    "         full_name,\n",
    "         email,\n",
    "         age,  \n",
    "         gender,\n",
    "         mobile,\n",
    "         hackerrank_id,\n",
    "         linkedin_id,\n",
    "         github_id,\n",
    "         stackoverflow_id,\n",
    "         status,\n",
    "         created_date,\n",
    "         modified_date,\n",
    "         active) VALUES ('Raja Sekhar','rajsekhar.cs@gmail.com',32,'M','7702777416','rajasekharp','rajsekhar.cs','rajeunoia','rajasekharp','',NOW(),NOW(),1)\"\"\"\n",
    "\n",
    "#sql = \"select * from participants\"\n",
    "cursor.execute(sql)\n",
    "#cursor.fetchall()\n",
    "#print(cursor.rowcount)\n",
    "#result = connection.cmd_query(\"SELECT 'TABLE_NAME' FROM INFORMATION_SCHEMA.TABLES\")\n"
   ]
  },
  {
   "cell_type": "code",
   "execution_count": null,
   "metadata": {},
   "outputs": [],
   "source": [
    "# Fetch Data from the Table\n",
    "\n",
    "sql = \"select * from participants\"\n",
    "cursor.execute(sql)\n",
    "results = cursor.fetchall()\n",
    "for row in results:\n",
    "    print(row[1], \" : \", row)"
   ]
  },
  {
   "cell_type": "code",
   "execution_count": null,
   "metadata": {},
   "outputs": [],
   "source": [
    "#Process to drop the table, Please don't run it. \n",
    "#sql = \"drop table participants_dummy\"\n",
    "#cursor.execute(sql)"
   ]
  },
  {
   "cell_type": "code",
   "execution_count": null,
   "metadata": {
    "collapsed": true
   },
   "outputs": [],
   "source": [
    "cursor.close()\n",
    "connection.close()"
   ]
  },
  {
   "cell_type": "code",
   "execution_count": null,
   "metadata": {
    "collapsed": true
   },
   "outputs": [],
   "source": []
  }
 ],
 "metadata": {
  "kernelspec": {
   "display_name": "Python 3",
   "language": "python",
   "name": "python3"
  },
  "language_info": {
   "codemirror_mode": {
    "name": "ipython",
    "version": 3
   },
   "file_extension": ".py",
   "mimetype": "text/x-python",
   "name": "python",
   "nbconvert_exporter": "python",
   "pygments_lexer": "ipython3",
   "version": "3.6.3"
  }
 },
 "nbformat": 4,
 "nbformat_minor": 2
}
